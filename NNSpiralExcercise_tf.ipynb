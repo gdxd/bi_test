{
 "cells": [
  {
   "cell_type": "code",
   "execution_count": null,
   "metadata": {},
   "outputs": [],
   "source": [
    "import numpy as np\n",
    "import tensorflow as tf\n",
    "import matplotlib.pyplot as plt"
   ]
  },
  {
   "cell_type": "code",
   "execution_count": null,
   "metadata": {},
   "outputs": [],
   "source": [
    "# spiral data with noise\n",
    "np.random.seed(42)\n",
    "N=200\n",
    "noisefact=0.7\n",
    "p = sorted(np.random.random(N)*np.pi*5)\n",
    "v1 = p*np.cos(p)+np.random.randn(N)*noisefact\n",
    "v2 = p*np.sin(p)+np.random.randn(N)*noisefact\n",
    "p2 = sorted(np.random.random(N)*np.pi*5+np.pi)\n",
    "w1 = p*np.cos(p2)+np.random.randn(N)*noisefact\n",
    "w2 = p*np.sin(p2)+np.random.randn(N)*noisefact\n",
    "# visualize\n",
    "plt.scatter(v1, v2)\n",
    "plt.scatter(w1, w2)\n",
    "y1 = np.zeros((N, 1))\n",
    "y2 = np.ones((N, 1))"
   ]
  },
  {
   "cell_type": "code",
   "execution_count": null,
   "metadata": {},
   "outputs": [],
   "source": [
    "X = np.stack([np.concatenate([v1, w1]), np.concatenate([v2, w2])], axis = 1)\n",
    "y = np.concatenate([y1, y2]).ravel()\n",
    "# normalize\n",
    "X -= X.mean(axis=0)\n",
    "X /= X.std(axis=0)"
   ]
  },
  {
   "cell_type": "code",
   "execution_count": null,
   "metadata": {},
   "outputs": [],
   "source": [
    "model = tf.keras.models.Sequential([\n",
    "    tf.keras.layers.Dense(128, activation=\"relu\", input_shape=(2,)),\n",
    "    tf.keras.layers.Dense(128, activation=\"relu\", ),\n",
    "    tf.keras.layers.Dense(128, activation=\"relu\", ),\n",
    "    tf.keras.layers.Dense(1, activation=\"sigmoid\")\n",
    "])"
   ]
  },
  {
   "cell_type": "code",
   "execution_count": null,
   "metadata": {},
   "outputs": [],
   "source": [
    "model.compile(optimizer=tf.keras.optimizers.Adam(), loss=\"binary_crossentropy\")"
   ]
  },
  {
   "cell_type": "code",
   "execution_count": null,
   "metadata": {},
   "outputs": [],
   "source": [
    "history = model.fit(X, y, epochs=500, shuffle=True, verbose=False, batch_size=32)"
   ]
  },
  {
   "cell_type": "code",
   "execution_count": null,
   "metadata": {},
   "outputs": [],
   "source": [
    "plt.plot(history.history[\"loss\"])"
   ]
  },
  {
   "cell_type": "markdown",
   "metadata": {},
   "source": [
    "Accuracy:"
   ]
  },
  {
   "cell_type": "code",
   "execution_count": null,
   "metadata": {},
   "outputs": [],
   "source": [
    "acc = ((model.predict(X).ravel() > 0.5) == y).mean()\n",
    "acc"
   ]
  },
  {
   "cell_type": "code",
   "execution_count": null,
   "metadata": {},
   "outputs": [],
   "source": [
    "def plot_data_and_scores(X, y, grid, scores):\n",
    "    plt.contourf(grid[0], grid[1], scores.reshape(grid[0].shape), cmap=\"Spectral_r\")\n",
    "    plt.colorbar(label=\"NN output\")\n",
    "    plt.scatter(X[y==1][:,0], X[y==1][:,1], marker=\".\", edgecolors=\"black\", color=\"red\")\n",
    "    plt.scatter(X[y==0][:,0], X[y==0][:,1], marker=\".\", edgecolors=\"black\", color=\"blue\")\n",
    "    plt.xlim(grid[0].min(), grid[0].max())\n",
    "    plt.ylim(grid[1].min(), grid[1].max())"
   ]
  },
  {
   "cell_type": "code",
   "execution_count": null,
   "metadata": {},
   "outputs": [],
   "source": [
    "grid = np.meshgrid(\n",
    "    np.arange(-3, 3, 0.1),\n",
    "    np.arange(-3, 3, 0.1)\n",
    ")\n",
    "scores = model.predict(np.c_[grid[0].ravel(), grid[1].ravel()])\n",
    "plot_data_and_scores(X, y, grid, scores)"
   ]
  },
  {
   "cell_type": "code",
   "execution_count": null,
   "metadata": {},
   "outputs": [],
   "source": []
  }
 ],
 "metadata": {
  "kernelspec": {
   "display_name": "Python 3 (ipykernel)",
   "language": "python",
   "name": "python3"
  },
  "language_info": {
   "codemirror_mode": {
    "name": "ipython",
    "version": 3
   },
   "file_extension": ".py",
   "mimetype": "text/x-python",
   "name": "python",
   "nbconvert_exporter": "python",
   "pygments_lexer": "ipython3",
   "version": "3.12.7"
  },
  "toc": {
   "base_numbering": 1,
   "nav_menu": {},
   "number_sections": true,
   "sideBar": true,
   "skip_h1_title": false,
   "title_cell": "Table of Contents",
   "title_sidebar": "Contents",
   "toc_cell": false,
   "toc_position": {},
   "toc_section_display": true,
   "toc_window_display": false
  }
 },
 "nbformat": 4,
 "nbformat_minor": 4
}
